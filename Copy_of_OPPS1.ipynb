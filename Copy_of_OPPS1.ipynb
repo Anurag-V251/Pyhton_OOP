{
  "nbformat": 4,
  "nbformat_minor": 0,
  "metadata": {
    "colab": {
      "name": "Copy of OPPS1.ipynb",
      "provenance": [],
      "collapsed_sections": [],
      "authorship_tag": "ABX9TyOwA9j43PSu/kde3lnZLjrg"
    },
    "kernelspec": {
      "name": "python3",
      "display_name": "Python 3"
    },
    "language_info": {
      "name": "python"
    }
  },
  "cells": [
    {
      "cell_type": "code",
      "execution_count": 1,
      "metadata": {
        "colab": {
          "base_uri": "https://localhost:8080/",
          "height": 0
        },
        "id": "V8lH1cpfbQJy",
        "outputId": "d12165d5-436a-4cc2-acff-2fbe2666b75b"
      },
      "outputs": [
        {
          "output_type": "stream",
          "name": "stdout",
          "text": [
            "hello world i am back to coding\n"
          ]
        }
      ],
      "source": [
        "print(\"hello world i am back to coding\")"
      ]
    },
    {
      "cell_type": "code",
      "source": [
        "print(\"this is another commit lets see\")"
      ],
      "metadata": {
        "colab": {
          "base_uri": "https://localhost:8080/",
          "height": 0
        },
        "id": "f5CEE1qZb_5m",
        "outputId": "88f4d4e8-3aed-40c0-85bb-fef9a9258178"
      },
      "execution_count": 2,
      "outputs": [
        {
          "output_type": "stream",
          "name": "stdout",
          "text": [
            "this is another commit lets see\n"
          ]
        }
      ]
    },
    {
      "cell_type": "code",
      "source": [
        "a = 10 \n",
        "print(type(a))"
      ],
      "metadata": {
        "id": "kivSj8R-dnP2",
        "outputId": "bbef4ee8-8a53-468f-ea6e-9b05f9402784",
        "colab": {
          "base_uri": "https://localhost:8080/",
          "height": 0
        }
      },
      "execution_count": 3,
      "outputs": [
        {
          "output_type": "stream",
          "name": "stdout",
          "text": [
            "<class 'int'>\n"
          ]
        }
      ]
    },
    {
      "cell_type": "code",
      "source": [
        "l= [1,2,3]\n",
        "print(type(l))"
      ],
      "metadata": {
        "id": "BlvzgurodwQO",
        "outputId": "bb8c3b4e-528f-4524-c4aa-faa311182b8c",
        "colab": {
          "base_uri": "https://localhost:8080/",
          "height": 0
        }
      },
      "execution_count": 4,
      "outputs": [
        {
          "output_type": "stream",
          "name": "stdout",
          "text": [
            "<class 'list'>\n"
          ]
        }
      ]
    },
    {
      "cell_type": "markdown",
      "source": [
        "Lets create students class"
      ],
      "metadata": {
        "id": "lfqxf78ceCKg"
      }
    },
    {
      "cell_type": "code",
      "source": [
        "class Student:\n",
        "  pass  #this is like a placeholder and it creats and empty class\n"
      ],
      "metadata": {
        "id": "1a0xd4rEeHtr"
      },
      "execution_count": 5,
      "outputs": []
    },
    {
      "cell_type": "code",
      "source": [
        "s1 = Student()\n",
        "s2 = Student()  #to create an object of the class we simply do name_of_the_object = class()\n",
        "s3 = Student()"
      ],
      "metadata": {
        "id": "stT3qQz-eXGu"
      },
      "execution_count": 6,
      "outputs": []
    },
    {
      "cell_type": "code",
      "source": [
        ""
      ],
      "metadata": {
        "id": "Ihk250ZpfBos"
      },
      "execution_count": 6,
      "outputs": []
    },
    {
      "cell_type": "markdown",
      "source": [
        "**Now there are two types of attributes that a class can have**\n",
        "1.   INSTANCE ATTRIBUTE\n",
        "2.   CLASS ATTRIBUTE\n",
        "\n",
        "**INSTANCE ATTRIBUTE** or object attribute\n",
        "this is object specific attribute like i like badminton and my friend like cricket so here **like** is a instance attribute \n",
        "\n",
        "**CLASS ATTRIBUTE**\n",
        "the attributes which are common for all the objects for a class are class atirbutes like i and my friend are in the same semester , same courses etc."
      ],
      "metadata": {
        "id": "ijiWPhVLfIO7"
      }
    },
    {
      "cell_type": "markdown",
      "source": [
        "In pyhton different objects can have different istance attributes and we can accsess instace attriute by **.** \n",
        "i.e obejct**.**name = Anurag"
      ],
      "metadata": {
        "id": "DARhfb8DhHBX"
      }
    },
    {
      "cell_type": "code",
      "source": [
        "s1.name = \"Anurag Verma\" #here we are adding name attribute to s1 althogh it was not present earlier\n",
        "s1.age = 19"
      ],
      "metadata": {
        "id": "mIMOr5gIhXwe"
      },
      "execution_count": 7,
      "outputs": []
    },
    {
      "cell_type": "code",
      "source": [
        "s2.rollno = 101"
      ],
      "metadata": {
        "id": "I9Lv66SLhpNK"
      },
      "execution_count": 8,
      "outputs": []
    },
    {
      "cell_type": "markdown",
      "source": [
        "Now in python we every object has a dictionary which holds attributes and their values\n",
        "To access it we use \"object_name.__ dict__\" to get this "
      ],
      "metadata": {
        "id": "FZmH34O8h7YM"
      }
    },
    {
      "cell_type": "code",
      "source": [
        "print(s1.__dict__)"
      ],
      "metadata": {
        "colab": {
          "base_uri": "https://localhost:8080/",
          "height": 0
        },
        "id": "_ucK-xemhrhD",
        "outputId": "89d4f0f3-9070-4537-8051-d3e12841d873"
      },
      "execution_count": 9,
      "outputs": [
        {
          "output_type": "stream",
          "name": "stdout",
          "text": [
            "{'name': 'Anurag Verma', 'age': 19}\n"
          ]
        }
      ]
    },
    {
      "cell_type": "code",
      "source": [
        "s4 = Student()\n",
        "print(s4.__dict__)"
      ],
      "metadata": {
        "colab": {
          "base_uri": "https://localhost:8080/",
          "height": 0
        },
        "id": "H7zPo9ERimml",
        "outputId": "a3ad7246-7283-4d86-8633-1114490d35e9"
      },
      "execution_count": 10,
      "outputs": [
        {
          "output_type": "stream",
          "name": "stdout",
          "text": [
            "{}\n"
          ]
        }
      ]
    },
    {
      "cell_type": "markdown",
      "source": [
        "To access object attributes we use **.** "
      ],
      "metadata": {
        "id": "kw1YjeN2i_gv"
      }
    },
    {
      "cell_type": "code",
      "source": [
        "print(s1.name)\n",
        "print(s2.rollno)"
      ],
      "metadata": {
        "colab": {
          "base_uri": "https://localhost:8080/",
          "height": 0
        },
        "id": "zJN45PfRizWV",
        "outputId": "b2cb2b93-3c20-4b9e-9c63-8b5d451db54e"
      },
      "execution_count": 13,
      "outputs": [
        {
          "output_type": "stream",
          "name": "stdout",
          "text": [
            "Anurag Verma\n",
            "101\n"
          ]
        }
      ]
    },
    {
      "cell_type": "markdown",
      "source": [
        "#Inbuit</span> Functions\n",
        "In python each object has some in bulit function.\n",
        "\n",
        "*   hasattr() check that a particular attr is in the obeject or not. **Output is boolean**<br>\n",
        " **code:** hasattr(object_name,'attribute name')\n",
        "* setattr() **setattr(obj,attr,value)**\n",
        "* delattr() **delattr(obj,attr)**\n",
        "* getattr() **getattr(obj,attr,default value)** we get default value if this attr is not present for any specific object\n",
        "\n"
      ],
      "metadata": {
        "id": "kMKhKTYvjl8a"
      }
    },
    {
      "cell_type": "code",
      "source": [
        "print(getattr(s1,'name'))"
      ],
      "metadata": {
        "colab": {
          "base_uri": "https://localhost:8080/"
        },
        "id": "kp3EzIgrjJpG",
        "outputId": "338067cf-8343-42b2-9e27-c1e4c3842a49"
      },
      "execution_count": 15,
      "outputs": [
        {
          "output_type": "stream",
          "name": "stdout",
          "text": [
            "Anurag Verma\n"
          ]
        }
      ]
    },
    {
      "cell_type": "code",
      "source": [
        "print(getattr(s2,'name','not present in s2'))"
      ],
      "metadata": {
        "colab": {
          "base_uri": "https://localhost:8080/"
        },
        "id": "sq5omqqFmTB8",
        "outputId": "ad39abcc-be84-406f-9b89-159498f82bc2"
      },
      "execution_count": 16,
      "outputs": [
        {
          "output_type": "stream",
          "name": "stdout",
          "text": [
            "not present in s2\n"
          ]
        }
      ]
    },
    {
      "cell_type": "code",
      "source": [
        "delattr(s1,'name')"
      ],
      "metadata": {
        "id": "85KMo-W-meCu"
      },
      "execution_count": 17,
      "outputs": []
    },
    {
      "cell_type": "code",
      "source": [
        "print(s1.__dict__)"
      ],
      "metadata": {
        "colab": {
          "base_uri": "https://localhost:8080/"
        },
        "id": "6Ux41lsamhgc",
        "outputId": "0838277d-7a01-476f-dd2e-0ab30d5cd12b"
      },
      "execution_count": 18,
      "outputs": [
        {
          "output_type": "stream",
          "name": "stdout",
          "text": [
            "{'age': 19}\n"
          ]
        }
      ]
    },
    {
      "cell_type": "code",
      "source": [
        "setattr(s1,'name','Anurag Verma')"
      ],
      "metadata": {
        "id": "aBQ8xygXmjmX"
      },
      "execution_count": 19,
      "outputs": []
    },
    {
      "cell_type": "code",
      "source": [
        "s1.__dict__"
      ],
      "metadata": {
        "colab": {
          "base_uri": "https://localhost:8080/"
        },
        "id": "yTnYeTImmn62",
        "outputId": "2ad1544c-874f-46c5-ae69-f9d98dcdc3c5"
      },
      "execution_count": 20,
      "outputs": [
        {
          "output_type": "execute_result",
          "data": {
            "text/plain": [
              "{'age': 19, 'name': 'Anurag Verma'}"
            ]
          },
          "metadata": {},
          "execution_count": 20
        }
      ]
    },
    {
      "cell_type": "code",
      "source": [
        ""
      ],
      "metadata": {
        "id": "Vt5xop3ZmrlB"
      },
      "execution_count": null,
      "outputs": []
    }
  ]
}