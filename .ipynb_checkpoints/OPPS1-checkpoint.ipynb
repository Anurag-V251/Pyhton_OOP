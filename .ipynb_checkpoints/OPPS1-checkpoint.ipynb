{
 "cells": [
  {
   "cell_type": "code",
   "execution_count": 1,
   "metadata": {
    "colab": {
     "base_uri": "https://localhost:8080/",
     "height": 0
    },
    "id": "V8lH1cpfbQJy",
    "outputId": "d12165d5-436a-4cc2-acff-2fbe2666b75b"
   },
   "outputs": [
    {
     "name": "stdout",
     "output_type": "stream",
     "text": [
      "hello world i am back to coding\n"
     ]
    }
   ],
   "source": [
    "print(\"hello world i am back to coding\")"
   ]
  },
  {
   "cell_type": "code",
   "execution_count": 2,
   "metadata": {
    "colab": {
     "base_uri": "https://localhost:8080/",
     "height": 0
    },
    "id": "f5CEE1qZb_5m",
    "outputId": "88f4d4e8-3aed-40c0-85bb-fef9a9258178"
   },
   "outputs": [
    {
     "name": "stdout",
     "output_type": "stream",
     "text": [
      "this is another commit lets see\n"
     ]
    }
   ],
   "source": [
    "print(\"this is another commit lets see\")"
   ]
  },
  {
   "cell_type": "code",
   "execution_count": 3,
   "metadata": {
    "colab": {
     "base_uri": "https://localhost:8080/",
     "height": 0
    },
    "id": "kivSj8R-dnP2",
    "outputId": "bbef4ee8-8a53-468f-ea6e-9b05f9402784"
   },
   "outputs": [
    {
     "name": "stdout",
     "output_type": "stream",
     "text": [
      "<class 'int'>\n"
     ]
    }
   ],
   "source": [
    "a = 10 \n",
    "print(type(a))"
   ]
  },
  {
   "cell_type": "code",
   "execution_count": 4,
   "metadata": {
    "colab": {
     "base_uri": "https://localhost:8080/",
     "height": 0
    },
    "id": "BlvzgurodwQO",
    "outputId": "bb8c3b4e-528f-4524-c4aa-faa311182b8c"
   },
   "outputs": [
    {
     "name": "stdout",
     "output_type": "stream",
     "text": [
      "<class 'list'>\n"
     ]
    }
   ],
   "source": [
    "l= [1,2,3]\n",
    "print(type(l))"
   ]
  },
  {
   "cell_type": "markdown",
   "metadata": {
    "id": "lfqxf78ceCKg"
   },
   "source": [
    "Lets create students class"
   ]
  },
  {
   "cell_type": "code",
   "execution_count": 5,
   "metadata": {
    "id": "1a0xd4rEeHtr"
   },
   "outputs": [],
   "source": [
    "class Student:\n",
    "  pass  #this is like a placeholder and it creats and empty class\n"
   ]
  },
  {
   "cell_type": "code",
   "execution_count": 6,
   "metadata": {
    "id": "stT3qQz-eXGu"
   },
   "outputs": [],
   "source": [
    "s1 = Student()\n",
    "s2 = Student()  #to create an object of the class we simply do name_of_the_object = class()\n",
    "s3 = Student()"
   ]
  },
  {
   "cell_type": "code",
   "execution_count": null,
   "metadata": {
    "id": "Ihk250ZpfBos"
   },
   "outputs": [],
   "source": []
  },
  {
   "cell_type": "markdown",
   "metadata": {
    "id": "ijiWPhVLfIO7"
   },
   "source": [
    "**Now there are two types of attributes that a class can have**\n",
    "1.   INSTANCE ATTRIBUTE\n",
    "2.   CLASS ATTRIBUTE\n",
    "\n",
    "**INSTANCE ATTRIBUTE** or object attribute\n",
    "this is object specific attribute like i like badminton and my friend like cricket so here **like** is a instance attribute \n",
    "\n",
    "**CLASS ATTRIBUTE**\n",
    "the attributes which are common for all the objects for a class are class atirbutes like i and my friend are in the same semester , same courses etc."
   ]
  },
  {
   "cell_type": "markdown",
   "metadata": {
    "id": "DARhfb8DhHBX"
   },
   "source": [
    "In pyhton different objects can have different istance attributes and we can accsess instace attriute by **.** \n",
    "i.e obejct**.**name = Anurag"
   ]
  },
  {
   "cell_type": "markdown",
   "metadata": {
    "id": "t3uxja29oiHP"
   },
   "source": [
    "##INSTANCE ATTRIBUTE\n",
    "***"
   ]
  },
  {
   "cell_type": "code",
   "execution_count": 7,
   "metadata": {
    "id": "mIMOr5gIhXwe"
   },
   "outputs": [],
   "source": [
    "s1.name = \"Anurag Verma\" #here we are adding name attribute to s1 althogh it was not present earlier\n",
    "s1.age = 19"
   ]
  },
  {
   "cell_type": "code",
   "execution_count": 8,
   "metadata": {
    "id": "I9Lv66SLhpNK"
   },
   "outputs": [],
   "source": [
    "s2.rollno = 101"
   ]
  },
  {
   "cell_type": "markdown",
   "metadata": {
    "id": "FZmH34O8h7YM"
   },
   "source": [
    "Now in python we every object has a dictionary which holds attributes and their values\n",
    "To access it we use \"object_name.__ dict__\" to get this "
   ]
  },
  {
   "cell_type": "code",
   "execution_count": 9,
   "metadata": {
    "colab": {
     "base_uri": "https://localhost:8080/",
     "height": 0
    },
    "id": "_ucK-xemhrhD",
    "outputId": "89d4f0f3-9070-4537-8051-d3e12841d873"
   },
   "outputs": [
    {
     "name": "stdout",
     "output_type": "stream",
     "text": [
      "{'name': 'Anurag Verma', 'age': 19}\n"
     ]
    }
   ],
   "source": [
    "print(s1.__dict__)"
   ]
  },
  {
   "cell_type": "code",
   "execution_count": 10,
   "metadata": {
    "colab": {
     "base_uri": "https://localhost:8080/",
     "height": 0
    },
    "id": "H7zPo9ERimml",
    "outputId": "a3ad7246-7283-4d86-8633-1114490d35e9"
   },
   "outputs": [
    {
     "name": "stdout",
     "output_type": "stream",
     "text": [
      "{}\n"
     ]
    }
   ],
   "source": [
    "s4 = Student()\n",
    "print(s4.__dict__)"
   ]
  },
  {
   "cell_type": "markdown",
   "metadata": {
    "id": "kw1YjeN2i_gv"
   },
   "source": [
    "To access object attributes we use **.** "
   ]
  },
  {
   "cell_type": "code",
   "execution_count": 11,
   "metadata": {
    "colab": {
     "base_uri": "https://localhost:8080/",
     "height": 0
    },
    "id": "zJN45PfRizWV",
    "outputId": "b2cb2b93-3c20-4b9e-9c63-8b5d451db54e"
   },
   "outputs": [
    {
     "name": "stdout",
     "output_type": "stream",
     "text": [
      "Anurag Verma\n",
      "101\n"
     ]
    }
   ],
   "source": [
    "print(s1.name)\n",
    "print(s2.rollno)"
   ]
  },
  {
   "cell_type": "markdown",
   "metadata": {
    "id": "kMKhKTYvjl8a"
   },
   "source": [
    "#Inbuit</span> Functions\n",
    "In python each object has some in bulit function.\n",
    "\n",
    "*   hasattr() check that a particular attr is in the obeject or not. **Output is boolean**<br>\n",
    " **code:** hasattr(object_name,'attribute name')\n",
    "* setattr() **setattr(obj,attr,value)**\n",
    "* delattr() **delattr(obj,attr)**\n",
    "* getattr() **getattr(obj,attr,default value)** we get default value if this attr is not present for any specific object\n",
    "\n"
   ]
  },
  {
   "cell_type": "code",
   "execution_count": 12,
   "metadata": {
    "colab": {
     "base_uri": "https://localhost:8080/"
    },
    "id": "kp3EzIgrjJpG",
    "outputId": "338067cf-8343-42b2-9e27-c1e4c3842a49"
   },
   "outputs": [
    {
     "name": "stdout",
     "output_type": "stream",
     "text": [
      "Anurag Verma\n"
     ]
    }
   ],
   "source": [
    "print(getattr(s1,'name'))"
   ]
  },
  {
   "cell_type": "code",
   "execution_count": 13,
   "metadata": {
    "colab": {
     "base_uri": "https://localhost:8080/"
    },
    "id": "sq5omqqFmTB8",
    "outputId": "ad39abcc-be84-406f-9b89-159498f82bc2"
   },
   "outputs": [
    {
     "name": "stdout",
     "output_type": "stream",
     "text": [
      "not present in s2\n"
     ]
    }
   ],
   "source": [
    "print(getattr(s2,'name','not present in s2'))"
   ]
  },
  {
   "cell_type": "code",
   "execution_count": 14,
   "metadata": {
    "id": "85KMo-W-meCu"
   },
   "outputs": [],
   "source": [
    "delattr(s1,'name')"
   ]
  },
  {
   "cell_type": "code",
   "execution_count": 15,
   "metadata": {
    "colab": {
     "base_uri": "https://localhost:8080/"
    },
    "id": "6Ux41lsamhgc",
    "outputId": "0838277d-7a01-476f-dd2e-0ab30d5cd12b"
   },
   "outputs": [
    {
     "name": "stdout",
     "output_type": "stream",
     "text": [
      "{'age': 19}\n"
     ]
    }
   ],
   "source": [
    "print(s1.__dict__)"
   ]
  },
  {
   "cell_type": "code",
   "execution_count": 16,
   "metadata": {
    "id": "aBQ8xygXmjmX"
   },
   "outputs": [],
   "source": [
    "setattr(s1,'name','Anurag Verma')"
   ]
  },
  {
   "cell_type": "code",
   "execution_count": 17,
   "metadata": {
    "colab": {
     "base_uri": "https://localhost:8080/"
    },
    "id": "yTnYeTImmn62",
    "outputId": "2ad1544c-874f-46c5-ae69-f9d98dcdc3c5"
   },
   "outputs": [
    {
     "data": {
      "text/plain": [
       "{'age': 19, 'name': 'Anurag Verma'}"
      ]
     },
     "execution_count": 17,
     "metadata": {},
     "output_type": "execute_result"
    }
   ],
   "source": [
    "s1.__dict__"
   ]
  },
  {
   "cell_type": "markdown",
   "metadata": {
    "id": "ZE1y5RZbpLQy"
   },
   "source": [
    "#CLASS ATTRIBUTE\n",
    "---"
   ]
  },
  {
   "cell_type": "code",
   "execution_count": 18,
   "metadata": {
    "id": "Vt5xop3ZmrlB"
   },
   "outputs": [],
   "source": [
    "Student.tatalStudents = 20"
   ]
  },
  {
   "cell_type": "code",
   "execution_count": 19,
   "metadata": {
    "colab": {
     "base_uri": "https://localhost:8080/"
    },
    "id": "3aKq31aNpcXV",
    "outputId": "3ec8894b-e8fa-475d-95b5-4f31c99adbf5"
   },
   "outputs": [
    {
     "name": "stdout",
     "output_type": "stream",
     "text": [
      "{'__module__': '__main__', '__dict__': <attribute '__dict__' of 'Student' objects>, '__weakref__': <attribute '__weakref__' of 'Student' objects>, '__doc__': None, 'tatalStudents': 20}\n"
     ]
    }
   ],
   "source": [
    "print(Student.__dict__)"
   ]
  },
  {
   "cell_type": "code",
   "execution_count": 20,
   "metadata": {
    "id": "PQDL-e3dpgMu"
   },
   "outputs": [],
   "source": [
    "class Student:\n",
    "  ##class attributes\n",
    "  totalStudents = 20\n",
    "  coaching = \"coding Ninzas\"\n",
    "  "
   ]
  },
  {
   "cell_type": "code",
   "execution_count": 21,
   "metadata": {
    "colab": {
     "base_uri": "https://localhost:8080/"
    },
    "id": "qf4bKGKtpzO5",
    "outputId": "48c72a91-c123-4670-eda0-a5cd7346c5a6"
   },
   "outputs": [
    {
     "name": "stdout",
     "output_type": "stream",
     "text": [
      "{'__module__': '__main__', 'totalStudents': 20, 'coaching': 'coding Ninzas', '__dict__': <attribute '__dict__' of 'Student' objects>, '__weakref__': <attribute '__weakref__' of 'Student' objects>, '__doc__': None}\n"
     ]
    }
   ],
   "source": [
    "print(Student.__dict__)"
   ]
  },
  {
   "cell_type": "code",
   "execution_count": 22,
   "metadata": {
    "id": "a5NBdhEop4HI"
   },
   "outputs": [],
   "source": [
    "s1 = Student()\n",
    "s2 = Student()"
   ]
  },
  {
   "cell_type": "code",
   "execution_count": 23,
   "metadata": {
    "colab": {
     "base_uri": "https://localhost:8080/"
    },
    "id": "i54fuaFjqEPB",
    "outputId": "160ce873-bba2-4d25-c050-be96b936a5b9"
   },
   "outputs": [
    {
     "name": "stdout",
     "output_type": "stream",
     "text": [
      "{}\n"
     ]
    }
   ],
   "source": [
    "print(s1.__dict__)"
   ]
  },
  {
   "cell_type": "code",
   "execution_count": 24,
   "metadata": {
    "colab": {
     "base_uri": "https://localhost:8080/"
    },
    "id": "itQY1w_EqKCk",
    "outputId": "0f640605-98da-4f00-b0d7-6a413d6006c4"
   },
   "outputs": [
    {
     "name": "stdout",
     "output_type": "stream",
     "text": [
      "20\n",
      "20\n"
     ]
    }
   ],
   "source": [
    "print(Student.totalStudents)\n",
    "print(s1.totalStudents)"
   ]
  },
  {
   "cell_type": "code",
   "execution_count": 25,
   "metadata": {
    "colab": {
     "base_uri": "https://localhost:8080/"
    },
    "id": "9eSp_jHQqQOG",
    "outputId": "00151e06-218d-4a25-f420-cd3305627360"
   },
   "outputs": [
    {
     "name": "stdout",
     "output_type": "stream",
     "text": [
      "{}\n",
      "{}\n"
     ]
    }
   ],
   "source": [
    "print(s1.__dict__)\n",
    "print(s2.__dict__) #becuase there are no instance attr"
   ]
  },
  {
   "cell_type": "code",
   "execution_count": 26,
   "metadata": {
    "id": "rcHJn-WmqdFX"
   },
   "outputs": [],
   "source": [
    "##now we are going to update the class attr and lets see what happens to the objects\n",
    "Student.totalStudents = 30"
   ]
  },
  {
   "cell_type": "code",
   "execution_count": 27,
   "metadata": {
    "colab": {
     "base_uri": "https://localhost:8080/"
    },
    "id": "GvkxQ_q2qvli",
    "outputId": "570a18ca-2441-4cf8-ed56-3a2b2d731e76"
   },
   "outputs": [
    {
     "name": "stdout",
     "output_type": "stream",
     "text": [
      "30\n",
      "30\n",
      "30\n"
     ]
    }
   ],
   "source": [
    "print(s1.totalStudents)\n",
    "print(s2.totalStudents)\n",
    "print(Student.totalStudents)"
   ]
  },
  {
   "cell_type": "code",
   "execution_count": 28,
   "metadata": {
    "colab": {
     "base_uri": "https://localhost:8080/"
    },
    "id": "oPTFcoCwq7xw",
    "outputId": "ee63b669-a6c1-454e-8b4a-9501aacd4850"
   },
   "outputs": [
    {
     "name": "stdout",
     "output_type": "stream",
     "text": [
      "40\n",
      "30\n",
      "30\n"
     ]
    }
   ],
   "source": [
    "## now updatng the class attr value in the object and lets see class \n",
    "s1.totalStudents = 40\n",
    "print(s1.totalStudents)\n",
    "print(s2.totalStudents)\n",
    "print(Student.totalStudents)\n"
   ]
  },
  {
   "cell_type": "code",
   "execution_count": 29,
   "metadata": {
    "colab": {
     "base_uri": "https://localhost:8080/"
    },
    "id": "MXYbs481rM6Q",
    "outputId": "a1876963-a5df-4dd8-e16f-6baa27bd08af"
   },
   "outputs": [
    {
     "name": "stdout",
     "output_type": "stream",
     "text": [
      "{'totalStudents': 40}\n",
      "{}\n"
     ]
    }
   ],
   "source": [
    "print(s1.__dict__)\n",
    "print(s2.__dict__) ## when we tried to change the value od class attribute using object . it creates an instance attr for the object"
   ]
  },
  {
   "cell_type": "code",
   "execution_count": 30,
   "metadata": {
    "id": "6uPLmRcbuOy3"
   },
   "outputs": [],
   "source": [
    "##screenshot will be here dont forgot"
   ]
  },
  {
   "cell_type": "markdown",
   "metadata": {},
   "source": [
    "---"
   ]
  },
  {
   "cell_type": "markdown",
   "metadata": {},
   "source": [
    "#Methods\n",
    "\n",
    "*Instance Method or object method (method to change instance properties)\n",
    "*Class Method  (e.g change class teacher name)\n",
    "*Static Method"
   ]
  },
  {
   "cell_type": "code",
   "execution_count": 32,
   "metadata": {},
   "outputs": [],
   "source": [
    "class Student:\n",
    "    ##class attributes\n",
    "    totalStudents = 20\n",
    "    coaching = \"coding ninzas\"\n",
    "\n",
    "    ##any function we write here becomes instance method\n",
    "    def printHello():\n",
    "        print(\"hey world\")\n",
    "s1 = Student()"
   ]
  },
  {
   "cell_type": "code",
   "execution_count": 34,
   "metadata": {},
   "outputs": [
    {
     "ename": "TypeError",
     "evalue": "printHello() takes 0 positional arguments but 1 was given",
     "output_type": "error",
     "traceback": [
      "\u001b[1;31m---------------------------------------------------------------------------\u001b[0m",
      "\u001b[1;31mTypeError\u001b[0m                                 Traceback (most recent call last)",
      "\u001b[1;32m<ipython-input-34-676008e691ce>\u001b[0m in \u001b[0;36m<module>\u001b[1;34m\u001b[0m\n\u001b[1;32m----> 1\u001b[1;33m \u001b[0ms1\u001b[0m\u001b[1;33m.\u001b[0m\u001b[0mprintHello\u001b[0m\u001b[1;33m(\u001b[0m\u001b[1;33m)\u001b[0m \u001b[1;31m#it is interpreted as Student.printHello(s1)\u001b[0m\u001b[1;33m\u001b[0m\u001b[1;33m\u001b[0m\u001b[0m\n\u001b[0m",
      "\u001b[1;31mTypeError\u001b[0m: printHello() takes 0 positional arguments but 1 was given"
     ]
    }
   ],
   "source": [
    "s1.printHello() #it is interpreted as Student.printHello(s1)"
   ]
  },
  {
   "cell_type": "markdown",
   "metadata": {},
   "source": [
    "now to resolve this we add a pointer **self** in the function argument"
   ]
  },
  {
   "cell_type": "code",
   "execution_count": 51,
   "metadata": {},
   "outputs": [],
   "source": [
    "class Student:\n",
    "    ##class attributes\n",
    "    totalStudents = 20\n",
    "    coaching = \"coding ninzas\"\n",
    "\n",
    "    ##any function we write here becomes instance method\n",
    "    def printHello(self): #use self that will point to the object\n",
    "        print(\"hey world\")\n",
    "    def printstr(self,str):\n",
    "        print(str)\n",
    "    def printname(self):\n",
    "        print(self.name)\n",
    "s1 = Student()"
   ]
  },
  {
   "cell_type": "code",
   "execution_count": 52,
   "metadata": {},
   "outputs": [
    {
     "name": "stdout",
     "output_type": "stream",
     "text": [
      "hey world\n"
     ]
    }
   ],
   "source": [
    "s1.printHello()"
   ]
  },
  {
   "cell_type": "code",
   "execution_count": 53,
   "metadata": {},
   "outputs": [
    {
     "name": "stdout",
     "output_type": "stream",
     "text": [
      "hey this is a string\n"
     ]
    }
   ],
   "source": [
    "s1.printstr(\"hey this is a string\")"
   ]
  },
  {
   "cell_type": "code",
   "execution_count": 54,
   "metadata": {},
   "outputs": [
    {
     "ename": "TypeError",
     "evalue": "printHello() missing 1 required positional argument: 'self'",
     "output_type": "error",
     "traceback": [
      "\u001b[1;31m---------------------------------------------------------------------------\u001b[0m",
      "\u001b[1;31mTypeError\u001b[0m                                 Traceback (most recent call last)",
      "\u001b[1;32m<ipython-input-54-c1f0fc8b0fca>\u001b[0m in \u001b[0;36m<module>\u001b[1;34m\u001b[0m\n\u001b[1;32m----> 1\u001b[1;33m \u001b[0mStudent\u001b[0m\u001b[1;33m.\u001b[0m\u001b[0mprintHello\u001b[0m\u001b[1;33m(\u001b[0m\u001b[1;33m)\u001b[0m \u001b[1;31m#we are not passing any reference object\u001b[0m\u001b[1;33m\u001b[0m\u001b[1;33m\u001b[0m\u001b[0m\n\u001b[0m",
      "\u001b[1;31mTypeError\u001b[0m: printHello() missing 1 required positional argument: 'self'"
     ]
    }
   ],
   "source": [
    "Student.printHello() #we are not passing any reference object "
   ]
  },
  {
   "cell_type": "code",
   "execution_count": 55,
   "metadata": {},
   "outputs": [
    {
     "name": "stdout",
     "output_type": "stream",
     "text": [
      "hey world\n"
     ]
    }
   ],
   "source": [
    "Student.printHello(s1)"
   ]
  },
  {
   "cell_type": "code",
   "execution_count": 56,
   "metadata": {},
   "outputs": [],
   "source": [
    "s1.name = \"mohit\""
   ]
  },
  {
   "cell_type": "code",
   "execution_count": 57,
   "metadata": {},
   "outputs": [
    {
     "name": "stdout",
     "output_type": "stream",
     "text": [
      "mohit\n"
     ]
    }
   ],
   "source": [
    "s1.printname()"
   ]
  },
  {
   "cell_type": "code",
   "execution_count": 66,
   "metadata": {},
   "outputs": [],
   "source": [
    "class Student :\n",
    "    totalSudnets = 20\n",
    "    coaching = \"coding ninzas\"\n",
    "\n",
    "    def addname(self,name):\n",
    "        self.name = name #creating an instance property of object self\n",
    "    def test(self):\n",
    "        print(Student.totalSudnets)\n",
    "s1 = Student()\n",
    "s2 = Student()\n",
    "    "
   ]
  },
  {
   "cell_type": "code",
   "execution_count": 67,
   "metadata": {},
   "outputs": [
    {
     "name": "stdout",
     "output_type": "stream",
     "text": [
      "{}\n",
      "{}\n"
     ]
    }
   ],
   "source": [
    "print(s1.__dict__)  ##they dosen't have any instance attribute yet\n",
    "print(s2.__dict__)"
   ]
  },
  {
   "cell_type": "code",
   "execution_count": 68,
   "metadata": {},
   "outputs": [],
   "source": [
    "s1.addname(\"Aurag Verma\")\n",
    "s2.addname(\"Rahul Verma\")"
   ]
  },
  {
   "cell_type": "code",
   "execution_count": 69,
   "metadata": {},
   "outputs": [
    {
     "name": "stdout",
     "output_type": "stream",
     "text": [
      "{'name': 'Aurag Verma'}\n",
      "{'name': 'Rahul Verma'}\n"
     ]
    }
   ],
   "source": [
    "print(s1.__dict__)\n",
    "print(s2.__dict__)"
   ]
  },
  {
   "cell_type": "code",
   "execution_count": 70,
   "metadata": {},
   "outputs": [
    {
     "name": "stdout",
     "output_type": "stream",
     "text": [
      "20\n"
     ]
    }
   ],
   "source": [
    "s1.test()"
   ]
  },
  {
   "cell_type": "markdown",
   "metadata": {},
   "source": [
    "***"
   ]
  },
  {
   "cell_type": "markdown",
   "metadata": {},
   "source": [
    "# Constructors \n",
    " it is a special instance method\n",
    " it is automatical called when we create a object from a class.\n",
    " \n",
    " * In python it is defined as def \\__init__"
   ]
  },
  {
   "cell_type": "code",
   "execution_count": 1,
   "metadata": {},
   "outputs": [
    {
     "name": "stdout",
     "output_type": "stream",
     "text": [
      "constructor is called\n",
      "constructor is called\n"
     ]
    }
   ],
   "source": [
    "class Student :\n",
    "    totalSudnets = 20\n",
    "    coaching = \"coding ninzas\"\n",
    "    \n",
    "    def __init__(self):\n",
    "        print(\"constructor is called\") #if we do not define it then the default one will be called\n",
    "        pass\n",
    "\n",
    "    def addname(self,name):\n",
    "        self.name = name #creating an instance property of object self\n",
    "    def test(self):\n",
    "        print(Student.totalSudnets)\n",
    "s1 = Student()\n",
    "s2 = Student()"
   ]
  },
  {
   "cell_type": "code",
   "execution_count": 2,
   "metadata": {},
   "outputs": [],
   "source": [
    "class Student :\n",
    "    totalSudnets = 20\n",
    "    coaching = \"coding ninzas\"\n",
    "    \n",
    "    def __init__(self):\n",
    "        self.name = \"anurag\"\n",
    "        self.rollNo = \"20220phy130\"\n",
    "        self.coaching = \"coding ninzas\"\n",
    "\n",
    "    def addname(self,name):\n",
    "        self.name = name #creating an instance property of object self\n",
    "    def test(self):\n",
    "        print(Student.totalSudnets)\n",
    "s1 = Student()\n",
    "s2 = Student()"
   ]
  },
  {
   "cell_type": "code",
   "execution_count": 3,
   "metadata": {},
   "outputs": [
    {
     "name": "stdout",
     "output_type": "stream",
     "text": [
      "{'name': 'anurag', 'rollNo': '20220phy130', 'coaching': 'coding ninzas'}\n"
     ]
    }
   ],
   "source": [
    "print(s1.__dict__)"
   ]
  },
  {
   "cell_type": "code",
   "execution_count": 4,
   "metadata": {},
   "outputs": [
    {
     "name": "stdout",
     "output_type": "stream",
     "text": [
      "{'name': 'anurag', 'rollNo': '20220phy130', 'coaching': 'coding ninzas'}\n"
     ]
    }
   ],
   "source": [
    "print(s2.__dict__)"
   ]
  },
  {
   "cell_type": "code",
   "execution_count": 6,
   "metadata": {},
   "outputs": [],
   "source": [
    "class Student :\n",
    "    totalSudnets = 20\n",
    "    coaching = \"coding ninzas\"\n",
    "    \n",
    "    def __init__(self,name,age,rollNO = 0): ##rollNo = 0 is the default value\n",
    "        self.name = name\n",
    "        self.age = age\n",
    "        self.rollNo = rollNO\n",
    "\n",
    "    def addname(self,name):\n",
    "        self.name = name #creating an instance property of object self\n",
    "    def test(self):\n",
    "        print(Student.totalSudnets)\n",
    "s1 = Student(\"Anurag Verma\",19,\"20220PHY130\")\n",
    "s2 = Student(\"Rahul Verma\",25)"
   ]
  },
  {
   "cell_type": "code",
   "execution_count": 7,
   "metadata": {},
   "outputs": [
    {
     "name": "stdout",
     "output_type": "stream",
     "text": [
      "{'name': 'Anurag Verma', 'age': 19, 'rollNo': '20220PHY130'}\n",
      "{'name': 'Rahul Verma', 'age': 25, 'rollNo': 0}\n"
     ]
    }
   ],
   "source": [
    "print(s1.__dict__)\n",
    "print(s2.__dict__)"
   ]
  },
  {
   "cell_type": "markdown",
   "metadata": {},
   "source": [
    "### we can't do constructor overload that is making more than one constructor"
   ]
  },
  {
   "cell_type": "markdown",
   "metadata": {},
   "source": [
    "***"
   ]
  },
  {
   "cell_type": "markdown",
   "metadata": {},
   "source": [
    "# Access Modifiers\n",
    "\n",
    "These defines where and how we can access any property or method inside or outside the class<br>\n",
    "These are of three types\n",
    "* private : can be accessible inside the class\n",
    "* public :  accessible everywhere\n",
    "* protected : b/w private and public\n",
    "\n",
    "***by default everythig is <span style=\"text-decoration:underline\">Public</span> ***\n",
    "\n",
    "To make private simply use **__** before the property<br>\n",
    "And to make protected simply use **_**"
   ]
  },
  {
   "cell_type": "code",
   "execution_count": 8,
   "metadata": {},
   "outputs": [],
   "source": [
    "class Student :\n",
    "    totalSudnets = 20\n",
    "    coaching = \"coding ninzas\"\n",
    "    \n",
    "    def __init__(self,name,age,rollNo = 0):\n",
    "        self.__name = name   ##name is a private property\n",
    "        self.age = age\n",
    "        self.rollNo = rollNo\n",
    "\n",
    "    \n",
    "s1 = Student(\"anurag Verma\",19,\"20220phy130\")\n",
    "s2 = Student(\"rahul verma\",25)"
   ]
  },
  {
   "cell_type": "code",
   "execution_count": 9,
   "metadata": {},
   "outputs": [
    {
     "name": "stdout",
     "output_type": "stream",
     "text": [
      "19 20220phy130\n"
     ]
    }
   ],
   "source": [
    "print(s1.age,s1.rollNo)"
   ]
  },
  {
   "cell_type": "code",
   "execution_count": 10,
   "metadata": {},
   "outputs": [
    {
     "ename": "AttributeError",
     "evalue": "'Student' object has no attribute 'name'",
     "output_type": "error",
     "traceback": [
      "\u001b[1;31m---------------------------------------------------------------------------\u001b[0m",
      "\u001b[1;31mAttributeError\u001b[0m                            Traceback (most recent call last)",
      "\u001b[1;32m<ipython-input-10-4fbac6d44e97>\u001b[0m in \u001b[0;36m<module>\u001b[1;34m\u001b[0m\n\u001b[1;32m----> 1\u001b[1;33m \u001b[0mprint\u001b[0m\u001b[1;33m(\u001b[0m\u001b[0ms1\u001b[0m\u001b[1;33m.\u001b[0m\u001b[0mname\u001b[0m\u001b[1;33m)\u001b[0m\u001b[1;33m\u001b[0m\u001b[1;33m\u001b[0m\u001b[0m\n\u001b[0m",
      "\u001b[1;31mAttributeError\u001b[0m: 'Student' object has no attribute 'name'"
     ]
    }
   ],
   "source": [
    "print(s1.name)"
   ]
  },
  {
   "cell_type": "code",
   "execution_count": 22,
   "metadata": {},
   "outputs": [],
   "source": [
    "class Student :\n",
    "    totalSudnets = 20\n",
    "    coaching = \"coding ninzas\"\n",
    "    \n",
    "    def __init__(self,name,age,rollNo = 0):\n",
    "        self.__name = name   ##name is a private property\n",
    "        self.age = age\n",
    "        self.rollNo = rollNo\n",
    "    def getname(self):\n",
    "        return self.__name   # cretaing an public property to get an private property\n",
    "    def setname(self,newname):\n",
    "        if newname == '':\n",
    "            return\n",
    "        self.__name = newname  # to update private property\n",
    "\n",
    "    \n",
    "s1 = Student(\"anurag Verma\",19,\"20220phy130\")\n",
    "s2 = Student(\"rahul verma\",25)"
   ]
  },
  {
   "cell_type": "code",
   "execution_count": 14,
   "metadata": {},
   "outputs": [
    {
     "name": "stdout",
     "output_type": "stream",
     "text": [
      "anurag Verma 19 20220phy130\n"
     ]
    }
   ],
   "source": [
    "print(s1.getname(),s1.age,s1.rollNo)"
   ]
  },
  {
   "cell_type": "code",
   "execution_count": 17,
   "metadata": {},
   "outputs": [],
   "source": [
    "s1.setname(\"Anurag VErma\")"
   ]
  },
  {
   "cell_type": "code",
   "execution_count": 18,
   "metadata": {},
   "outputs": [
    {
     "name": "stdout",
     "output_type": "stream",
     "text": [
      "{'_Student__name': 'Anurag VErma', 'age': 19, 'rollNo': '20220phy130'}\n"
     ]
    }
   ],
   "source": [
    "print(s1.__dict__)"
   ]
  },
  {
   "cell_type": "code",
   "execution_count": 23,
   "metadata": {},
   "outputs": [],
   "source": [
    "s1.setname('')"
   ]
  },
  {
   "cell_type": "code",
   "execution_count": 25,
   "metadata": {},
   "outputs": [
    {
     "name": "stdout",
     "output_type": "stream",
     "text": [
      "{'_Student__name': 'anurag Verma', 'age': 19, 'rollNo': '20220phy130'}\n"
     ]
    }
   ],
   "source": [
    "print(s1.__dict__)  ##name will not chaneg because of our check at empty string"
   ]
  },
  {
   "cell_type": "code",
   "execution_count": 27,
   "metadata": {},
   "outputs": [
    {
     "name": "stdout",
     "output_type": "stream",
     "text": [
      "User created Your default password is 1234 to update your details\n",
      "User created Your default password is 1234 to update your details\n"
     ]
    }
   ],
   "source": [
    "## adding password protection\n",
    "class Student :\n",
    "    totalSudnets = 20\n",
    "    coaching = \"coding ninzas\"\n",
    "    \n",
    "    def __init__(self,name,age,rollNo = 0,passwd = 1234):\n",
    "        self.__name = name   ##name is a private property\n",
    "        self.age = age\n",
    "        self.rollNo = rollNo\n",
    "        self.__passwd = passwd\n",
    "        print(\"User created Your default password is 1234 to update your details\")\n",
    "    def getname(self):\n",
    "        return self.__name   # cretaing an public property to get an private property\n",
    "    def setname(self,newname,passwd):\n",
    "        if newname == '' or passwd != self.__passwd:\n",
    "            return\n",
    "        self.__name = newname  # to update private property\n",
    "\n",
    "    \n",
    "s1 = Student(\"anurag Verma\",19,\"20220phy130\")\n",
    "s2 = Student(\"rahul verma\",25)"
   ]
  },
  {
   "cell_type": "code",
   "execution_count": 28,
   "metadata": {},
   "outputs": [],
   "source": [
    "s1.setname(\"anurag\",1234)"
   ]
  },
  {
   "cell_type": "code",
   "execution_count": 30,
   "metadata": {},
   "outputs": [
    {
     "name": "stdout",
     "output_type": "stream",
     "text": [
      "anurag\n"
     ]
    }
   ],
   "source": [
    "print(s1.getname())"
   ]
  },
  {
   "cell_type": "code",
   "execution_count": 31,
   "metadata": {},
   "outputs": [],
   "source": [
    "s1.setname('',1234)"
   ]
  },
  {
   "cell_type": "code",
   "execution_count": 32,
   "metadata": {},
   "outputs": [
    {
     "name": "stdout",
     "output_type": "stream",
     "text": [
      "anurag\n"
     ]
    }
   ],
   "source": [
    "print(s1.getname())"
   ]
  },
  {
   "cell_type": "code",
   "execution_count": 33,
   "metadata": {},
   "outputs": [],
   "source": [
    "s1.setname('this will not set',23133)"
   ]
  },
  {
   "cell_type": "code",
   "execution_count": 34,
   "metadata": {},
   "outputs": [
    {
     "name": "stdout",
     "output_type": "stream",
     "text": [
      "anurag\n"
     ]
    }
   ],
   "source": [
    "print(s1.getname())"
   ]
  },
  {
   "cell_type": "markdown",
   "metadata": {},
   "source": [
    "**In python everything is public. Actually it follows name mangling** <br>\n",
    "It changes the property name with **_classname__propertyName**\n",
    "\n",
    "Pythons says that anything is available for the developer as per their requiement"
   ]
  },
  {
   "cell_type": "code",
   "execution_count": 36,
   "metadata": {},
   "outputs": [
    {
     "name": "stdout",
     "output_type": "stream",
     "text": [
      "anurag\n"
     ]
    }
   ],
   "source": [
    "print(s1._Student__name) "
   ]
  },
  {
   "cell_type": "markdown",
   "metadata": {},
   "source": [
    "# Class methods and Static Methods\n",
    "***"
   ]
  },
  {
   "cell_type": "code",
   "execution_count": null,
   "metadata": {},
   "outputs": [],
   "source": []
  }
 ],
 "metadata": {
  "colab": {
   "authorship_tag": "ABX9TyPP7H+f6rZ6w0XQRGPtoT7Y",
   "collapsed_sections": [],
   "name": "OPPS1.ipynb",
   "provenance": []
  },
  "kernelspec": {
   "display_name": "Python 3",
   "language": "python",
   "name": "python3"
  },
  "language_info": {
   "codemirror_mode": {
    "name": "ipython",
    "version": 3
   },
   "file_extension": ".py",
   "mimetype": "text/x-python",
   "name": "python",
   "nbconvert_exporter": "python",
   "pygments_lexer": "ipython3",
   "version": "3.8.5"
  }
 },
 "nbformat": 4,
 "nbformat_minor": 1
}
