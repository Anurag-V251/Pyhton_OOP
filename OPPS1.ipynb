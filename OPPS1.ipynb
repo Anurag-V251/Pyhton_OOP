{
  "nbformat": 4,
  "nbformat_minor": 0,
  "metadata": {
    "colab": {
      "name": "OPPS1.ipynb",
      "provenance": [],
      "collapsed_sections": [],
      "authorship_tag": "ABX9TyPP7H+f6rZ6w0XQRGPtoT7Y"
    },
    "kernelspec": {
      "name": "python3",
      "display_name": "Python 3"
    },
    "language_info": {
      "name": "python"
    }
  },
  "cells": [
    {
      "cell_type": "code",
      "execution_count": 1,
      "metadata": {
        "colab": {
          "base_uri": "https://localhost:8080/",
          "height": 0
        },
        "id": "V8lH1cpfbQJy",
        "outputId": "d12165d5-436a-4cc2-acff-2fbe2666b75b"
      },
      "outputs": [
        {
          "output_type": "stream",
          "name": "stdout",
          "text": [
            "hello world i am back to coding\n"
          ]
        }
      ],
      "source": [
        "print(\"hello world i am back to coding\")"
      ]
    },
    {
      "cell_type": "code",
      "source": [
        "print(\"this is another commit lets see\")"
      ],
      "metadata": {
        "colab": {
          "base_uri": "https://localhost:8080/",
          "height": 0
        },
        "id": "f5CEE1qZb_5m",
        "outputId": "88f4d4e8-3aed-40c0-85bb-fef9a9258178"
      },
      "execution_count": 2,
      "outputs": [
        {
          "output_type": "stream",
          "name": "stdout",
          "text": [
            "this is another commit lets see\n"
          ]
        }
      ]
    },
    {
      "cell_type": "code",
      "source": [
        "a = 10 \n",
        "print(type(a))"
      ],
      "metadata": {
        "id": "kivSj8R-dnP2",
        "outputId": "bbef4ee8-8a53-468f-ea6e-9b05f9402784",
        "colab": {
          "base_uri": "https://localhost:8080/",
          "height": 0
        }
      },
      "execution_count": 3,
      "outputs": [
        {
          "output_type": "stream",
          "name": "stdout",
          "text": [
            "<class 'int'>\n"
          ]
        }
      ]
    },
    {
      "cell_type": "code",
      "source": [
        "l= [1,2,3]\n",
        "print(type(l))"
      ],
      "metadata": {
        "id": "BlvzgurodwQO",
        "outputId": "bb8c3b4e-528f-4524-c4aa-faa311182b8c",
        "colab": {
          "base_uri": "https://localhost:8080/",
          "height": 0
        }
      },
      "execution_count": 4,
      "outputs": [
        {
          "output_type": "stream",
          "name": "stdout",
          "text": [
            "<class 'list'>\n"
          ]
        }
      ]
    },
    {
      "cell_type": "markdown",
      "source": [
        "Lets create students class"
      ],
      "metadata": {
        "id": "lfqxf78ceCKg"
      }
    },
    {
      "cell_type": "code",
      "source": [
        "class Student:\n",
        "  pass  #this is like a placeholder and it creats and empty class\n"
      ],
      "metadata": {
        "id": "1a0xd4rEeHtr"
      },
      "execution_count": 5,
      "outputs": []
    },
    {
      "cell_type": "code",
      "source": [
        "s1 = Student()\n",
        "s2 = Student()  #to create an object of the class we simply do name_of_the_object = class()\n",
        "s3 = Student()"
      ],
      "metadata": {
        "id": "stT3qQz-eXGu"
      },
      "execution_count": 6,
      "outputs": []
    },
    {
      "cell_type": "code",
      "source": [
        ""
      ],
      "metadata": {
        "id": "Ihk250ZpfBos"
      },
      "execution_count": 6,
      "outputs": []
    },
    {
      "cell_type": "markdown",
      "source": [
        "**Now there are two types of attributes that a class can have**\n",
        "1.   INSTANCE ATTRIBUTE\n",
        "2.   CLASS ATTRIBUTE\n",
        "\n",
        "**INSTANCE ATTRIBUTE** or object attribute\n",
        "this is object specific attribute like i like badminton and my friend like cricket so here **like** is a instance attribute \n",
        "\n",
        "**CLASS ATTRIBUTE**\n",
        "the attributes which are common for all the objects for a class are class atirbutes like i and my friend are in the same semester , same courses etc."
      ],
      "metadata": {
        "id": "ijiWPhVLfIO7"
      }
    },
    {
      "cell_type": "markdown",
      "source": [
        "In pyhton different objects can have different istance attributes and we can accsess instace attriute by **.** \n",
        "i.e obejct**.**name = Anurag"
      ],
      "metadata": {
        "id": "DARhfb8DhHBX"
      }
    },
    {
      "cell_type": "markdown",
      "source": [
        "##INSTANCE ATTRIBUTE\n",
        "***"
      ],
      "metadata": {
        "id": "t3uxja29oiHP"
      }
    },
    {
      "cell_type": "code",
      "source": [
        "s1.name = \"Anurag Verma\" #here we are adding name attribute to s1 althogh it was not present earlier\n",
        "s1.age = 19"
      ],
      "metadata": {
        "id": "mIMOr5gIhXwe"
      },
      "execution_count": 7,
      "outputs": []
    },
    {
      "cell_type": "code",
      "source": [
        "s2.rollno = 101"
      ],
      "metadata": {
        "id": "I9Lv66SLhpNK"
      },
      "execution_count": 8,
      "outputs": []
    },
    {
      "cell_type": "markdown",
      "source": [
        "Now in python we every object has a dictionary which holds attributes and their values\n",
        "To access it we use \"object_name.__ dict__\" to get this "
      ],
      "metadata": {
        "id": "FZmH34O8h7YM"
      }
    },
    {
      "cell_type": "code",
      "source": [
        "print(s1.__dict__)"
      ],
      "metadata": {
        "colab": {
          "base_uri": "https://localhost:8080/",
          "height": 0
        },
        "id": "_ucK-xemhrhD",
        "outputId": "89d4f0f3-9070-4537-8051-d3e12841d873"
      },
      "execution_count": 9,
      "outputs": [
        {
          "output_type": "stream",
          "name": "stdout",
          "text": [
            "{'name': 'Anurag Verma', 'age': 19}\n"
          ]
        }
      ]
    },
    {
      "cell_type": "code",
      "source": [
        "s4 = Student()\n",
        "print(s4.__dict__)"
      ],
      "metadata": {
        "colab": {
          "base_uri": "https://localhost:8080/",
          "height": 0
        },
        "id": "H7zPo9ERimml",
        "outputId": "a3ad7246-7283-4d86-8633-1114490d35e9"
      },
      "execution_count": 10,
      "outputs": [
        {
          "output_type": "stream",
          "name": "stdout",
          "text": [
            "{}\n"
          ]
        }
      ]
    },
    {
      "cell_type": "markdown",
      "source": [
        "To access object attributes we use **.** "
      ],
      "metadata": {
        "id": "kw1YjeN2i_gv"
      }
    },
    {
      "cell_type": "code",
      "source": [
        "print(s1.name)\n",
        "print(s2.rollno)"
      ],
      "metadata": {
        "colab": {
          "base_uri": "https://localhost:8080/",
          "height": 0
        },
        "id": "zJN45PfRizWV",
        "outputId": "b2cb2b93-3c20-4b9e-9c63-8b5d451db54e"
      },
      "execution_count": 13,
      "outputs": [
        {
          "output_type": "stream",
          "name": "stdout",
          "text": [
            "Anurag Verma\n",
            "101\n"
          ]
        }
      ]
    },
    {
      "cell_type": "markdown",
      "source": [
        "#Inbuit</span> Functions\n",
        "In python each object has some in bulit function.\n",
        "\n",
        "*   hasattr() check that a particular attr is in the obeject or not. **Output is boolean**<br>\n",
        " **code:** hasattr(object_name,'attribute name')\n",
        "* setattr() **setattr(obj,attr,value)**\n",
        "* delattr() **delattr(obj,attr)**\n",
        "* getattr() **getattr(obj,attr,default value)** we get default value if this attr is not present for any specific object\n",
        "\n"
      ],
      "metadata": {
        "id": "kMKhKTYvjl8a"
      }
    },
    {
      "cell_type": "code",
      "source": [
        "print(getattr(s1,'name'))"
      ],
      "metadata": {
        "colab": {
          "base_uri": "https://localhost:8080/"
        },
        "id": "kp3EzIgrjJpG",
        "outputId": "338067cf-8343-42b2-9e27-c1e4c3842a49"
      },
      "execution_count": 15,
      "outputs": [
        {
          "output_type": "stream",
          "name": "stdout",
          "text": [
            "Anurag Verma\n"
          ]
        }
      ]
    },
    {
      "cell_type": "code",
      "source": [
        "print(getattr(s2,'name','not present in s2'))"
      ],
      "metadata": {
        "colab": {
          "base_uri": "https://localhost:8080/"
        },
        "id": "sq5omqqFmTB8",
        "outputId": "ad39abcc-be84-406f-9b89-159498f82bc2"
      },
      "execution_count": 16,
      "outputs": [
        {
          "output_type": "stream",
          "name": "stdout",
          "text": [
            "not present in s2\n"
          ]
        }
      ]
    },
    {
      "cell_type": "code",
      "source": [
        "delattr(s1,'name')"
      ],
      "metadata": {
        "id": "85KMo-W-meCu"
      },
      "execution_count": 17,
      "outputs": []
    },
    {
      "cell_type": "code",
      "source": [
        "print(s1.__dict__)"
      ],
      "metadata": {
        "colab": {
          "base_uri": "https://localhost:8080/"
        },
        "id": "6Ux41lsamhgc",
        "outputId": "0838277d-7a01-476f-dd2e-0ab30d5cd12b"
      },
      "execution_count": 18,
      "outputs": [
        {
          "output_type": "stream",
          "name": "stdout",
          "text": [
            "{'age': 19}\n"
          ]
        }
      ]
    },
    {
      "cell_type": "code",
      "source": [
        "setattr(s1,'name','Anurag Verma')"
      ],
      "metadata": {
        "id": "aBQ8xygXmjmX"
      },
      "execution_count": 19,
      "outputs": []
    },
    {
      "cell_type": "code",
      "source": [
        "s1.__dict__"
      ],
      "metadata": {
        "colab": {
          "base_uri": "https://localhost:8080/"
        },
        "id": "yTnYeTImmn62",
        "outputId": "2ad1544c-874f-46c5-ae69-f9d98dcdc3c5"
      },
      "execution_count": 20,
      "outputs": [
        {
          "output_type": "execute_result",
          "data": {
            "text/plain": [
              "{'age': 19, 'name': 'Anurag Verma'}"
            ]
          },
          "metadata": {},
          "execution_count": 20
        }
      ]
    },
    {
      "cell_type": "markdown",
      "source": [
        "#CLASS ATTRIBUTE\n",
        "---"
      ],
      "metadata": {
        "id": "ZE1y5RZbpLQy"
      }
    },
    {
      "cell_type": "code",
      "source": [
        "Student.tatalStudents = 20"
      ],
      "metadata": {
        "id": "Vt5xop3ZmrlB"
      },
      "execution_count": 21,
      "outputs": []
    },
    {
      "cell_type": "code",
      "source": [
        "print(Student.__dict__)"
      ],
      "metadata": {
        "colab": {
          "base_uri": "https://localhost:8080/"
        },
        "id": "3aKq31aNpcXV",
        "outputId": "3ec8894b-e8fa-475d-95b5-4f31c99adbf5"
      },
      "execution_count": 22,
      "outputs": [
        {
          "output_type": "stream",
          "name": "stdout",
          "text": [
            "{'__module__': '__main__', '__dict__': <attribute '__dict__' of 'Student' objects>, '__weakref__': <attribute '__weakref__' of 'Student' objects>, '__doc__': None, 'tatalStudents': 20}\n"
          ]
        }
      ]
    },
    {
      "cell_type": "code",
      "source": [
        "class Student:\n",
        "  ##class attributes\n",
        "  totalStudents = 20\n",
        "  coaching = \"coding Ninzas\"\n",
        "  "
      ],
      "metadata": {
        "id": "PQDL-e3dpgMu"
      },
      "execution_count": 23,
      "outputs": []
    },
    {
      "cell_type": "code",
      "source": [
        "print(Student.__dict__)"
      ],
      "metadata": {
        "colab": {
          "base_uri": "https://localhost:8080/"
        },
        "id": "qf4bKGKtpzO5",
        "outputId": "48c72a91-c123-4670-eda0-a5cd7346c5a6"
      },
      "execution_count": 24,
      "outputs": [
        {
          "output_type": "stream",
          "name": "stdout",
          "text": [
            "{'__module__': '__main__', 'totalStudents': 20, 'coaching': 'coding Ninzas', '__dict__': <attribute '__dict__' of 'Student' objects>, '__weakref__': <attribute '__weakref__' of 'Student' objects>, '__doc__': None}\n"
          ]
        }
      ]
    },
    {
      "cell_type": "code",
      "source": [
        "s1 = Student()\n",
        "s2 = Student()"
      ],
      "metadata": {
        "id": "a5NBdhEop4HI"
      },
      "execution_count": 25,
      "outputs": []
    },
    {
      "cell_type": "code",
      "source": [
        "print(s1.__dict__)"
      ],
      "metadata": {
        "colab": {
          "base_uri": "https://localhost:8080/"
        },
        "id": "i54fuaFjqEPB",
        "outputId": "160ce873-bba2-4d25-c050-be96b936a5b9"
      },
      "execution_count": 26,
      "outputs": [
        {
          "output_type": "stream",
          "name": "stdout",
          "text": [
            "{}\n"
          ]
        }
      ]
    },
    {
      "cell_type": "code",
      "source": [
        "print(Student.totalStudents)\n",
        "print(s1.totalStudents)"
      ],
      "metadata": {
        "colab": {
          "base_uri": "https://localhost:8080/"
        },
        "id": "itQY1w_EqKCk",
        "outputId": "0f640605-98da-4f00-b0d7-6a413d6006c4"
      },
      "execution_count": 31,
      "outputs": [
        {
          "output_type": "stream",
          "name": "stdout",
          "text": [
            "20\n",
            "20\n"
          ]
        }
      ]
    },
    {
      "cell_type": "code",
      "source": [
        "print(s1.__dict__)\n",
        "print(s2.__dict__) #becuase there are no instance attr"
      ],
      "metadata": {
        "colab": {
          "base_uri": "https://localhost:8080/"
        },
        "id": "9eSp_jHQqQOG",
        "outputId": "00151e06-218d-4a25-f420-cd3305627360"
      },
      "execution_count": 33,
      "outputs": [
        {
          "output_type": "stream",
          "name": "stdout",
          "text": [
            "{}\n",
            "{}\n"
          ]
        }
      ]
    },
    {
      "cell_type": "code",
      "source": [
        "##now we are going to update the class attr and lets see what happens to the objects\n",
        "Student.totalStudents = 30"
      ],
      "metadata": {
        "id": "rcHJn-WmqdFX"
      },
      "execution_count": 34,
      "outputs": []
    },
    {
      "cell_type": "code",
      "source": [
        "print(s1.totalStudents)\n",
        "print(s2.totalStudents)\n",
        "print(Student.totalStudents)"
      ],
      "metadata": {
        "colab": {
          "base_uri": "https://localhost:8080/"
        },
        "id": "GvkxQ_q2qvli",
        "outputId": "570a18ca-2441-4cf8-ed56-3a2b2d731e76"
      },
      "execution_count": 35,
      "outputs": [
        {
          "output_type": "stream",
          "name": "stdout",
          "text": [
            "30\n",
            "30\n",
            "30\n"
          ]
        }
      ]
    },
    {
      "cell_type": "code",
      "source": [
        "## now updatng the class attr value in the object and lets see class \n",
        "s1.totalStudents = 40\n",
        "print(s1.totalStudents)\n",
        "print(s2.totalStudents)\n",
        "print(Student.totalStudents)\n"
      ],
      "metadata": {
        "colab": {
          "base_uri": "https://localhost:8080/"
        },
        "id": "oPTFcoCwq7xw",
        "outputId": "ee63b669-a6c1-454e-8b4a-9501aacd4850"
      },
      "execution_count": 36,
      "outputs": [
        {
          "output_type": "stream",
          "name": "stdout",
          "text": [
            "40\n",
            "30\n",
            "30\n"
          ]
        }
      ]
    },
    {
      "cell_type": "code",
      "source": [
        "print(s1.__dict__)\n",
        "print(s2.__dict__) ## when we tried to change the value od class attribute using object . it creates an instance attr for the object"
      ],
      "metadata": {
        "colab": {
          "base_uri": "https://localhost:8080/"
        },
        "id": "MXYbs481rM6Q",
        "outputId": "a1876963-a5df-4dd8-e16f-6baa27bd08af"
      },
      "execution_count": 38,
      "outputs": [
        {
          "output_type": "stream",
          "name": "stdout",
          "text": [
            "{'totalStudents': 40}\n",
            "{}\n"
          ]
        }
      ]
    },
    {
      "cell_type": "code",
      "source": [
        ""
      ],
      "metadata": {
        "id": "6uPLmRcbuOy3"
      },
      "execution_count": null,
      "outputs": []
    }
  ]
}