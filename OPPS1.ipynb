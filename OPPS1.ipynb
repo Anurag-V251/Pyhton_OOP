{
  "nbformat": 4,
  "nbformat_minor": 0,
  "metadata": {
    "colab": {
      "name": "OPPS1.ipynb",
      "provenance": [],
      "collapsed_sections": [],
      "authorship_tag": "ABX9TyPEexR+A8CcVXSKwaRtir7P"
    },
    "kernelspec": {
      "name": "python3",
      "display_name": "Python 3"
    },
    "language_info": {
      "name": "python"
    }
  },
  "cells": [
    {
      "cell_type": "code",
      "execution_count": 1,
      "metadata": {
        "colab": {
          "base_uri": "https://localhost:8080/"
        },
        "id": "V8lH1cpfbQJy",
        "outputId": "84623d5c-3974-442f-81df-427782b7e557"
      },
      "outputs": [
        {
          "output_type": "stream",
          "name": "stdout",
          "text": [
            "hello world i am back to coding\n"
          ]
        }
      ],
      "source": [
        "print(\"hello world i am back to coding\")"
      ]
    },
    {
      "cell_type": "code",
      "source": [
        "print(\"this is another commit lets see\")"
      ],
      "metadata": {
        "colab": {
          "base_uri": "https://localhost:8080/"
        },
        "id": "f5CEE1qZb_5m",
        "outputId": "5d9dfab8-bdf8-4d8d-e316-428ccc9432fb"
      },
      "execution_count": 2,
      "outputs": [
        {
          "output_type": "stream",
          "name": "stdout",
          "text": [
            "this is another commit lets see\n"
          ]
        }
      ]
    }
  ]
}