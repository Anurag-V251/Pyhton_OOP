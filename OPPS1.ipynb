{
  "nbformat": 4,
  "nbformat_minor": 0,
  "metadata": {
    "colab": {
      "name": "OPPS1.ipynb",
      "provenance": [],
      "authorship_tag": "ABX9TyP7dnpNYU+7prx8hCS9/9Zy"
    },
    "kernelspec": {
      "name": "python3",
      "display_name": "Python 3"
    },
    "language_info": {
      "name": "python"
    }
  },
  "cells": [
    {
      "cell_type": "code",
      "execution_count": 1,
      "metadata": {
        "colab": {
          "base_uri": "https://localhost:8080/"
        },
        "id": "V8lH1cpfbQJy",
        "outputId": "84623d5c-3974-442f-81df-427782b7e557"
      },
      "outputs": [
        {
          "output_type": "stream",
          "name": "stdout",
          "text": [
            "hello world i am back to coding\n"
          ]
        }
      ],
      "source": [
        "print(\"hello world i am back to coding\")"
      ]
    }
  ]
}